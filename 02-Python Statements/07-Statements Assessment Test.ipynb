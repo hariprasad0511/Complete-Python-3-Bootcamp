{
 "cells": [
  {
   "cell_type": "markdown",
   "metadata": {
    "collapsed": true
   },
   "source": [
    "# Statements Assessment Test\n",
    "Let's test your knowledge!"
   ]
  },
  {
   "cell_type": "markdown",
   "metadata": {},
   "source": [
    "_____\n",
    "**Use <code>for</code>, .split(), and <code>if</code> to create a Statement that will print out words that start with 's':**"
   ]
  },
  {
   "cell_type": "code",
   "execution_count": 2,
   "metadata": {},
   "outputs": [],
   "source": [
    "st = 'Print only the words that start with s in this sentence'"
   ]
  },
  {
   "cell_type": "code",
   "execution_count": 19,
   "metadata": {},
   "outputs": [
    {
     "data": {
      "text/plain": [
       "['start', 's', 'sentence']"
      ]
     },
     "execution_count": 19,
     "metadata": {},
     "output_type": "execute_result"
    }
   ],
   "source": [
    "#Code here\n",
    "lst = st.split()\n",
    "lstNew = [x for x in lst if x[0].lower()=='s']\n",
    "lstNew"
   ]
  },
  {
   "cell_type": "markdown",
   "metadata": {},
   "source": [
    "______\n",
    "**Use range() to print all the even numbers from 0 to 10.**"
   ]
  },
  {
   "cell_type": "code",
   "execution_count": 12,
   "metadata": {},
   "outputs": [
    {
     "name": "stdout",
     "output_type": "stream",
     "text": [
      "0\n",
      "2\n",
      "4\n",
      "6\n",
      "8\n"
     ]
    }
   ],
   "source": [
    "#Code Here\n",
    "for x in range(0,10,2):\n",
    "    print(x)"
   ]
  },
  {
   "cell_type": "markdown",
   "metadata": {},
   "source": [
    "___\n",
    "**Use a List Comprehension to create a list of all numbers between 1 and 50 that are divisible by 3.**"
   ]
  },
  {
   "cell_type": "code",
   "execution_count": 21,
   "metadata": {},
   "outputs": [
    {
     "data": {
      "text/plain": [
       "[3, 6, 9, 12, 15, 18, 21, 24, 27, 30, 33, 36, 39, 42, 45, 48]"
      ]
     },
     "execution_count": 21,
     "metadata": {},
     "output_type": "execute_result"
    }
   ],
   "source": [
    "#Code in this cell\n",
    "list2 = [x for x in range(1,50) if x%3==0]\n",
    "list2"
   ]
  },
  {
   "cell_type": "markdown",
   "metadata": {},
   "source": [
    "_____\n",
    "**Go through the string below and if the length of a word is even print \"even!\"**"
   ]
  },
  {
   "cell_type": "code",
   "execution_count": null,
   "metadata": {},
   "outputs": [],
   "source": [
    "st = 'Print every word in this sentence that has an even number of letters'"
   ]
  },
  {
   "cell_type": "code",
   "execution_count": 25,
   "metadata": {},
   "outputs": [
    {
     "data": {
      "text/plain": [
       "['only', 'that', 'with', 'in', 'this', 'sentence']"
      ]
     },
     "execution_count": 25,
     "metadata": {},
     "output_type": "execute_result"
    }
   ],
   "source": [
    "#Code in this cell\n",
    "lst =st.split()\n",
    "lstNew = [x for x in lst if len(x)%2==0]\n",
    "lstNew"
   ]
  },
  {
   "cell_type": "markdown",
   "metadata": {},
   "source": [
    "____\n",
    "**Write a program that prints the integers from 1 to 100. But for multiples of three print \"Fizz\" instead of the number, and for the multiples of five print \"Buzz\". For numbers which are multiples of both three and five print \"FizzBuzz\".**"
   ]
  },
  {
   "cell_type": "code",
   "execution_count": 44,
   "metadata": {},
   "outputs": [
    {
     "name": "stdout",
     "output_type": "stream",
     "text": [
      "The number 3 is Fizz\n",
      "The number 5 is Buzz\n",
      "The number 6 is Fizz\n",
      "The number 9 is Fizz\n",
      "The number 10 is Buzz\n",
      "The number 12 is Fizz\n",
      "The number 15 is FizzBuzz\n",
      "The number 18 is Fizz\n",
      "The number 20 is Buzz\n",
      "The number 21 is Fizz\n",
      "The number 24 is Fizz\n",
      "The number 25 is Buzz\n",
      "The number 27 is Fizz\n",
      "The number 30 is FizzBuzz\n",
      "The number 33 is Fizz\n",
      "The number 35 is Buzz\n",
      "The number 36 is Fizz\n",
      "The number 39 is Fizz\n",
      "The number 40 is Buzz\n",
      "The number 42 is Fizz\n",
      "The number 45 is FizzBuzz\n",
      "The number 48 is Fizz\n",
      "The number 50 is Buzz\n",
      "The number 51 is Fizz\n",
      "The number 54 is Fizz\n",
      "The number 55 is Buzz\n",
      "The number 57 is Fizz\n",
      "The number 60 is FizzBuzz\n",
      "The number 63 is Fizz\n",
      "The number 65 is Buzz\n",
      "The number 66 is Fizz\n",
      "The number 69 is Fizz\n",
      "The number 70 is Buzz\n",
      "The number 72 is Fizz\n",
      "The number 75 is FizzBuzz\n",
      "The number 78 is Fizz\n",
      "The number 80 is Buzz\n",
      "The number 81 is Fizz\n",
      "The number 84 is Fizz\n",
      "The number 85 is Buzz\n",
      "The number 87 is Fizz\n",
      "The number 90 is FizzBuzz\n",
      "The number 93 is Fizz\n",
      "The number 95 is Buzz\n",
      "The number 96 is Fizz\n",
      "The number 99 is Fizz\n",
      "The number 100 is Buzz\n"
     ]
    }
   ],
   "source": [
    "#Code in this cell\n",
    "for x in range(1,101):\n",
    "    if x%3 == 0 and x%5 == 0:\n",
    "        print(f'The number {x} is FizzBuzz')\n",
    "    elif x%5 == 0:\n",
    "            print(f'The number {x} is Buzz')\n",
    "    elif x%3==0:\n",
    "        print(f'The number {x} is Fizz')"
   ]
  },
  {
   "cell_type": "markdown",
   "metadata": {},
   "source": [
    "____\n",
    "**Use List Comprehension to create a list of the first letters of every word in the string below:**"
   ]
  },
  {
   "cell_type": "code",
   "execution_count": 41,
   "metadata": {},
   "outputs": [],
   "source": [
    "st = 'Create a list of the first letters of every word in this string'"
   ]
  },
  {
   "cell_type": "code",
   "execution_count": 43,
   "metadata": {},
   "outputs": [
    {
     "data": {
      "text/plain": [
       "['C', 'a', 'l', 'o', 't', 'f', 'l', 'o', 'e', 'w', 'i', 't', 's']"
      ]
     },
     "execution_count": 43,
     "metadata": {},
     "output_type": "execute_result"
    }
   ],
   "source": [
    "#Code in this cell\n",
    "lst = st.split()\n",
    "[x[0] for x in lst]"
   ]
  },
  {
   "cell_type": "markdown",
   "metadata": {},
   "source": [
    "### Great Job!"
   ]
  }
 ],
 "metadata": {
  "kernelspec": {
   "display_name": "Python 3",
   "language": "python",
   "name": "python3"
  },
  "language_info": {
   "codemirror_mode": {
    "name": "ipython",
    "version": 3
   },
   "file_extension": ".py",
   "mimetype": "text/x-python",
   "name": "python",
   "nbconvert_exporter": "python",
   "pygments_lexer": "ipython3",
   "version": "3.6.5"
  }
 },
 "nbformat": 4,
 "nbformat_minor": 1
}
